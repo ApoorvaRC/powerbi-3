{
 "cells": [
  {
   "cell_type": "markdown",
   "metadata": {},
   "source": [
    "<h1>*********************************ASSIGNMENT 3************************************</h1>"
   ]
  },
  {
   "cell_type": "markdown",
   "metadata": {},
   "source": [
    "<b>Task 1:  \n",
    "  1.  \n",
    "Write a function to compute 5/0 and use try/except to catch the exceptions. </b>"
   ]
  },
  {
   "cell_type": "code",
   "execution_count": 1,
   "metadata": {},
   "outputs": [
    {
     "name": "stdout",
     "output_type": "stream",
     "text": [
      "Sorry ! You are dividing by zero \n",
      "Denominator has to be greater than zero\n"
     ]
    }
   ],
   "source": [
    "def divide(x, y): \n",
    "    try:  \n",
    "        result = x // y \n",
    "        print(\"Yeah ! Your answer is :\", result) \n",
    "    except ZeroDivisionError: \n",
    "        print(\"Sorry ! You are dividing by zero \") \n",
    "        print(\"Denominator has to be greater than zero\")\n",
    "\n",
    "divide(5, 0) "
   ]
  },
  {
   "cell_type": "markdown",
   "metadata": {},
   "source": [
    "<b>\n",
    "2.\n",
    "    \n",
    "    Implement a Python program to generate all sentences where subject is in [\"Americans\", \"Indians\"] and verb is in [\"Play\", \"watch\"] and the object is in [\"Baseball\",\"cricket\"].  \n",
    "Hint: Subject,Verb and Object should be declared in the program as shown below.  \n",
    "subjects=[\"Americans \",\"Indians\"] verbs=[\"play\",\"watch\"] objects=[\"Baseball\",\"Cricket\"]  \n",
    "Output should come as below:  \n",
    "\n",
    "    Americans  play Baseball.\n",
    "\n",
    "    Americans  play Cricket. \n",
    "\n",
    "    Americans  watch Baseball. \n",
    "\n",
    "    Americans  watch Cricket.\n",
    "\n",
    "\n",
    "    Indians play Baseball. \n",
    "\n",
    "    Indians play Cricket. \n",
    "    \n",
    "     Indians watch Baseball. \n",
    "\n",
    "    Indians watch Cricket.</b> "
   ]
  },
  {
   "cell_type": "code",
   "execution_count": 2,
   "metadata": {},
   "outputs": [
    {
     "name": "stdout",
     "output_type": "stream",
     "text": [
      "Americans  play Baseball\n",
      "Americans  play Cricket\n",
      "Americans  watch Baseball\n",
      "Americans  watch Cricket\n",
      "Indians play Baseball\n",
      "Indians play Cricket\n",
      "Indians watch Baseball\n",
      "Indians watch Cricket\n"
     ]
    }
   ],
   "source": [
    "subjects=[\"Americans \",\"Indians\"] \n",
    "verbs=[\"play\",\"watch\"] \n",
    "objects=[\"Baseball\",\"Cricket\"]\n",
    "\n",
    "sentence=[(i +\" \" + j + \" \"+ k) \n",
    "           for i in subjects\n",
    "           for j in verbs\n",
    "           for k in objects]\n",
    "for l in sentence:\n",
    "           print(l)"
   ]
  },
  {
   "cell_type": "markdown",
   "metadata": {},
   "source": [
    "<b>\n",
    "    Task 2:    \n",
    "\n",
    "    1.   \n",
    "Write a function so that the columns of the output matrix are powers of the input vector.  \n",
    "The order of the powers is determined by the increasing boolean argument. Specifically, when              increasing is False, the i-th output column is the input vector raised element-wise to the power                of N - i - 1.   \n",
    "HINT: Such a matrix with a geometric progression in each row is named for Alexandre-               Theophile Vandermonde. </b>"
   ]
  },
  {
   "cell_type": "markdown",
   "metadata": {},
   "source": [
    "<H4>****CUSTOM FUNCTION***</H4>"
   ]
  },
  {
   "cell_type": "code",
   "execution_count": 3,
   "metadata": {},
   "outputs": [
    {
     "name": "stdout",
     "output_type": "stream",
     "text": [
      "Vandermonde matrix :\n",
      "1\t1\t1\t1\n",
      "8\t4\t2\t1\n",
      "27\t9\t3\t1\n",
      "125\t25\t5\t1\n"
     ]
    }
   ],
   "source": [
    "def vander(vec,pow):\n",
    "    return [[x**i \n",
    "             for i in range(pow-1,-1,-1)]\n",
    "             for x in vec]\n",
    "input_vector=[1,2,3,5]\n",
    "vec=[int(i) for i in input_vector]\n",
    "pow=4\n",
    "output_matrix=vander(vec,pow)\n",
    "print(\"Vandermonde matrix :\")\n",
    "print('\\n'.join([\"\\t\".join([str(x) for x in j]) for j in output_matrix]))"
   ]
  },
  {
   "cell_type": "markdown",
   "metadata": {},
   "source": [
    "<b>INBUILT -FUNCTION</b>"
   ]
  },
  {
   "cell_type": "code",
   "execution_count": 5,
   "metadata": {},
   "outputs": [
    {
     "name": "stdout",
     "output_type": "stream",
     "text": [
      "vandermonde matrix: \n",
      "[[  1   1   1   1]\n",
      " [  8   4   2   1]\n",
      " [ 27   9   3   1]\n",
      " [125  25   5   1]]\n"
     ]
    }
   ],
   "source": [
    "\n",
    "import numpy as np\n",
    "\n",
    "x = np.array([1, 2, 3, 5])\n",
    "N = 4\n",
    "np.vander(x, N)\n",
    "np.column_stack([x**(N-1-i) for i in range(N)])\n",
    "\n",
    "x = np.array([1, 2, 3, 5])\n",
    "print('vandermonde matrix: ')\n",
    "print(np.vander(x))\n",
    "\n"
   ]
  }
 ],
 "metadata": {
  "kernelspec": {
   "display_name": "Python 3",
   "language": "python",
   "name": "python3"
  },
  "language_info": {
   "codemirror_mode": {
    "name": "ipython",
    "version": 3
   },
   "file_extension": ".py",
   "mimetype": "text/x-python",
   "name": "python",
   "nbconvert_exporter": "python",
   "pygments_lexer": "ipython3",
   "version": "3.6.5"
  }
 },
 "nbformat": 4,
 "nbformat_minor": 2
}
